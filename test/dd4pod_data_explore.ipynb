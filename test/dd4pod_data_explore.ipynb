{
 "cells": [
  {
   "cell_type": "code",
   "execution_count": 2,
   "metadata": {},
   "outputs": [],
   "source": [
    "import uproot4\n",
    "from hist import Hist\n",
    "import hist\n",
    "import awkward1 as ak\n",
    "import numpy as np\n",
    "import matplotlib.pyplot as plt\n",
    "import sys\n",
    "\n",
    "\n",
    "from pprint import pprint\n"
   ]
  },
  {
   "cell_type": "code",
   "execution_count": 4,
   "metadata": {},
   "outputs": [
    {
     "data": {
      "text/plain": [
       "['EcalEndcapNHits.cellID',\n",
       " 'EcalEndcapNHits.flag',\n",
       " 'EcalEndcapNHits.g4ID',\n",
       " 'EcalEndcapNHits.position.x',\n",
       " 'EcalEndcapNHits.position.y',\n",
       " 'EcalEndcapNHits.position.z',\n",
       " 'EcalEndcapNHits.position.t',\n",
       " 'EcalEndcapNHits.truth.trackID',\n",
       " 'EcalEndcapNHits.truth.pdgID',\n",
       " 'EcalEndcapNHits.truth.deposit',\n",
       " 'EcalEndcapNHits.truth.time',\n",
       " 'EcalEndcapNHits.truth.length',\n",
       " 'EcalEndcapNHits.truth.x',\n",
       " 'EcalEndcapNHits.truth.y',\n",
       " 'EcalEndcapNHits.truth.z',\n",
       " 'EcalEndcapNHits.energyDeposit']"
      ]
     },
     "execution_count": 4,
     "metadata": {},
     "output_type": "execute_result"
    }
   ],
   "source": [
    "file_name = \"dd4pod_example_data/test_1000evt_gamma_1x_31y_0z_1.0GeV.root\"\n",
    "events_tree = uproot4.open(file_name)[\"events/EcalEndcapNHits/\"]\n",
    "events_tree.keys()  \n",
    "#edeps = events_tree['EcalEndcapNHits.energyDeposit'].array()"
   ]
  }
 ],
 "metadata": {
  "interpreter": {
   "hash": "f5803295e806c378cb4bebcb6797673ccf0de98490e2dd41faeadece2d94f4e3"
  },
  "kernelspec": {
   "display_name": "Python 3.8.10 64-bit ('venv': venv)",
   "name": "python3"
  },
  "language_info": {
   "codemirror_mode": {
    "name": "ipython",
    "version": 3
   },
   "file_extension": ".py",
   "mimetype": "text/x-python",
   "name": "python",
   "nbconvert_exporter": "python",
   "pygments_lexer": "ipython3",
   "version": "3.8.10"
  },
  "orig_nbformat": 4
 },
 "nbformat": 4,
 "nbformat_minor": 2
}
